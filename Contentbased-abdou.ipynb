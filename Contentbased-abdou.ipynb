{
 "cells": [
  {
   "cell_type": "code",
   "execution_count": 2,
   "metadata": {},
   "outputs": [],
   "source": [
    "import pandas as pd\n",
    "import numpy as np\n",
    "import matplotlib.pyplot as plt\n",
    "from itertools import combinations\n",
    "import seaborn as sns\n",
    "from sklearn.feature_extraction.text import TfidfVectorizer\n",
    "from sklearn.metrics.pairwise import cosine_similarity\n",
    "from numpy.lib.npyio import itertools\n",
    "from sklearn.model_selection import train_test_split\n",
    "\n",
    "ratings = pd.read_csv('normalizedreviews.csv',\n",
    "                      sep=';',  usecols=['movieId', 'userId', 'rating', 'review_content'])\n",
    "movies = pd.read_csv('movies.csv',\n",
    "                     sep=';',  usecols=['rotten_tomatoes_link', 'movie_title', 'movie_info',  'genres', 'directors', 'actors', 'original_release_date', 'tomatometer_rating', 'audience_rating'])\n",
    "\n",
    "\n",
    "\n",
    "def contentbased(user,movies,ratings):\n",
    "        movies = movies[movies['rotten_tomatoes_link'].isin(\n",
    "                ratings['movieId'].to_numpy())]\n",
    "        movies.dropna(subset=['movie_info'], inplace=True)\n",
    "        ratings.dropna(axis=0, subset=['rating'], inplace=True)\n",
    "        ratings.drop_duplicates(subset=['movieId', 'userId'], inplace=True)\n",
    "        userLID = ratings['userId'].unique()\n",
    "\n",
    "        tf = TfidfVectorizer(analyzer='word', ngram_range=(1, 3),\n",
    "                        min_df=0, stop_words='english')\n",
    "        tfidf_matrix_item = tf.fit_transform(movies['movie_info'])\n",
    "        sum=0\n",
    "\n",
    "\n",
    "        userRate = ratings[ratings['userId'] == user]\n",
    "        relRating = userRate[userRate['rating'] >= 4]\n",
    "        userM = movies[movies['rotten_tomatoes_link'].isin(relRating['movieId'])]\n",
    "        if (userM.shape[0]>=4 and relRating.shape[0]>=4):                \n",
    "                userMrel, userMT = train_test_split(userM,test_size=0.4, shuffle=True)\n",
    "                userMT = userMT['movieId'].to_numpy()\n",
    "                        \n",
    "                featureMat = pd.DataFrame(tfidf_matrix_item.todense(),\n",
    "                                                columns=tf.get_feature_names_out(),\n",
    "                                                index=movies.movieId)\n",
    "                featureMatU = featureMat[featureMat.index.isin(userMrel['movieId'])]\n",
    "                featureMatU = (pd.DataFrame((featureMatU.mean()),\n",
    "                                                columns=['similarity'])).transpose()\n",
    "                        \n",
    "                        \n",
    "                        \n",
    "                cosine_sim = cosine_similarity(featureMatU, tfidf_matrix_item)\n",
    "                cosine_sim_df = pd.DataFrame(cosine_sim.T, index=movies['movieId'], columns=['similarity'])\n",
    "                \n",
    "\n",
    "\n",
    "\n",
    "\n",
    "\"\"\"       \n",
    "result = cosine_sim_df.sort_values(by='similarity', ascending=False).head(10)\n",
    "n = 0\n",
    "rslt= result.index.to_numpy()\n",
    "for movie in rslt:\n",
    "        if movie in userMT:\n",
    "                n+=1\n",
    "        sum=sum+n\n",
    "sum= sum/10\n",
    "sum= sum/len(userLID)\n",
    "print(sum)\n",
    "\"\"\"\n"
   ]
  }
 ],
 "metadata": {
  "kernelspec": {
   "display_name": "Python 3.8.8 ('base')",
   "language": "python",
   "name": "python3"
  },
  "language_info": {
   "codemirror_mode": {
    "name": "ipython",
    "version": 3
   },
   "file_extension": ".py",
   "mimetype": "text/x-python",
   "name": "python",
   "nbconvert_exporter": "python",
   "pygments_lexer": "ipython3",
   "version": "3.8.8"
  },
  "orig_nbformat": 4,
  "vscode": {
   "interpreter": {
    "hash": "34295d0e9cfdb3b033355ff4e78dfd5a10ab01f1285df9038f953971af20646c"
   }
  }
 },
 "nbformat": 4,
 "nbformat_minor": 2
}
